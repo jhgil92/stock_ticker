{
  "nbformat": 4,
  "nbformat_minor": 0,
  "metadata": {
    "colab": {
      "name": "미국_국내주식 종목코드.ipynb",
      "provenance": [],
      "authorship_tag": "ABX9TyPi4MI7AnpTwBFE97ixnNc4",
      "include_colab_link": true
    },
    "kernelspec": {
      "name": "python3",
      "display_name": "Python 3"
    }
  },
  "cells": [
    {
      "cell_type": "markdown",
      "metadata": {
        "id": "view-in-github",
        "colab_type": "text"
      },
      "source": [
        "<a href=\"https://colab.research.google.com/github/jhgil92/stock_ticker/blob/master/%EB%AF%B8%EA%B5%AD_%EA%B5%AD%EB%82%B4%EC%A3%BC%EC%8B%9D_%EC%A2%85%EB%AA%A9%EC%BD%94%EB%93%9C.ipynb\" target=\"_parent\"><img src=\"https://colab.research.google.com/assets/colab-badge.svg\" alt=\"Open In Colab\"/></a>"
      ]
    },
    {
      "cell_type": "code",
      "metadata": {
        "id": "n9ODAGkVVO3T",
        "colab_type": "code",
        "colab": {
          "base_uri": "https://localhost:8080/",
          "height": 53
        },
        "outputId": "b00d3637-64e1-4a9e-af54-42761237fc54"
      },
      "source": [
        "!pip -q install finance-datareader\n",
        "\n",
        "import FinanceDataReader as fdr\n",
        "import pandas as pd\n",
        "from google.colab import files"
      ],
      "execution_count": 2,
      "outputs": [
        {
          "output_type": "stream",
          "text": [
            "/usr/local/lib/python3.6/dist-packages/FinanceDataReader/krx/listing.py:40: FutureWarning: pandas.io.json.json_normalize is deprecated, use pandas.json_normalize instead\n",
            "  df_finder = json_normalize(jo, 'block1')\n"
          ],
          "name": "stderr"
        }
      ]
    },
    {
      "cell_type": "code",
      "metadata": {
        "id": "rlO92FEXVPnc",
        "colab_type": "code",
        "colab": {}
      },
      "source": [
        "df_krx = fdr.StockListing('KRX')\n",
        "df_usa1 = fdr.StockListing('NASDAQ')\n",
        "df_usa2 = fdr.StockListing('NYSE')\n",
        "df_usa3 = fdr.StockListing('AMEX')\n",
        "df_usa4 = fdr.StockListing('SP500')\n",
        "df_usa = pd.concat([df_usa1, df_usa2, df_usa3, df_usa4])\n",
        "df_usa = df_usa.drop_duplicates()\n",
        "df = pd.concat([df_usa[['Symbol', 'Name']], df_krx[['Symbol', 'Name']]])"
      ],
      "execution_count": 0,
      "outputs": []
    },
    {
      "cell_type": "code",
      "metadata": {
        "id": "XUtLH9aOcmE7",
        "colab_type": "code",
        "colab": {}
      },
      "source": [
        "df.to_csv('국내_미국 종목코드.csv')\n",
        "files.download('국내_미국 종목코드.csv')"
      ],
      "execution_count": 0,
      "outputs": []
    }
  ]
}